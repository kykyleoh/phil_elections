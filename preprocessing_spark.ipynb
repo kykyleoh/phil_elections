{
 "cells": [
  {
   "cell_type": "markdown",
   "metadata": {},
   "source": [
    "Datasets:\n",
    "*\tref_table_precinct_locations_PSGC.csv – lookup table for precincts\n",
    "*\tresults_president.csv – precinct-level election results for the 2016 presidential race\n",
    "*\tresults_vice-president.csv – precinct-level election results for the 2016 vice presidential race\n",
    "\n",
    "Tasks:\n",
    "1.\tCreate a denormalized table replacing precinct_code in the results_*.csv files with the columns: region, province, municipality, and barangay. \n",
    "\n",
    "2.\tCreate an interesting data visualization using this dataset.\n",
    "\n",
    "Tools:\n",
    "-\tCode should be written in a Jupyter Notebook\n",
    "-\tFor data transformation you can use Pandas\n",
    "-\tFor visualization use matplotlib or seaborn\n",
    "-\tPut your code in a Github repository\n",
    "\n",
    "Extra:\n",
    "-\tBonus points if you use PySpark for data transformation\n",
    "-\tBonus points if you use Tableau for visualization\n",
    " \n",
    "Good luck and enjoy. 😊\n"
   ]
  },
  {
   "cell_type": "markdown",
   "metadata": {},
   "source": [
    "# Denormalize Data Using PySpark"
   ]
  },
  {
   "cell_type": "code",
   "execution_count": 382,
   "metadata": {
    "ExecuteTime": {
     "end_time": "2020-05-22T18:45:50.230611Z",
     "start_time": "2020-05-22T18:45:50.217816Z"
    }
   },
   "outputs": [],
   "source": [
    "from pyspark.sql import SparkSession\n",
    "from pyspark import SparkContext\n",
    "from pyspark.sql.functions import udf, first\n",
    "import pandas as pd\n",
    "import matplotlib.pyplot as plt\n",
    "%matplotlib inline\n",
    "import seaborn as sns"
   ]
  },
  {
   "cell_type": "code",
   "execution_count": 2,
   "metadata": {
    "ExecuteTime": {
     "end_time": "2020-05-22T09:12:39.157664Z",
     "start_time": "2020-05-22T09:12:36.622332Z"
    }
   },
   "outputs": [],
   "source": [
    "sc = SparkContext()\n",
    "spark = SparkSession(sc)"
   ]
  },
  {
   "cell_type": "markdown",
   "metadata": {},
   "source": [
    "Load data into spark dataframes."
   ]
  },
  {
   "cell_type": "code",
   "execution_count": 484,
   "metadata": {
    "ExecuteTime": {
     "end_time": "2020-05-23T09:10:59.379575Z",
     "start_time": "2020-05-23T09:10:58.439205Z"
    }
   },
   "outputs": [],
   "source": [
    "president = spark.read.csv('results_president.csv', header=True)\n",
    "vicepres = spark.read.csv('results_vice-president.csv', header=True)\n",
    "mappings = spark.read.csv('ref_table_precinct_locations.csv', header=True)\n",
    "psgc = spark.read.csv('ref_table_precinct_locations_PSGC.csv', header=True)"
   ]
  },
  {
   "cell_type": "markdown",
   "metadata": {},
   "source": [
    "We'll need to clean the formats of the `income_class` column as there are improperly transformed string types."
   ]
  },
  {
   "cell_type": "code",
   "execution_count": 485,
   "metadata": {
    "ExecuteTime": {
     "end_time": "2020-05-23T09:11:00.371350Z",
     "start_time": "2020-05-23T09:11:00.365581Z"
    }
   },
   "outputs": [],
   "source": [
    "income_class_map = {\n",
    "    '1st':'1st Class',\n",
    "    '2nd':'2nd Class',\n",
    "    '3rd':'3rd Class', \n",
    "    '4th':'4th Class',\n",
    "    '5th':'5th Class',\n",
    "    '6th':'6th Class',\n",
    "    '-':'Unknown',\n",
    "    'None':'None'\n",
    "}"
   ]
  },
  {
   "cell_type": "markdown",
   "metadata": {},
   "source": [
    "We define a User Defined Function, `udf`, to clean the bytes and convert to unicode."
   ]
  },
  {
   "cell_type": "code",
   "execution_count": 486,
   "metadata": {
    "ExecuteTime": {
     "end_time": "2020-05-23T09:11:00.656267Z",
     "start_time": "2020-05-23T09:11:00.652927Z"
    }
   },
   "outputs": [],
   "source": [
    "bytes_cleaner = udf(lambda x: str(x).replace('\\xa0', u''))"
   ]
  },
  {
   "cell_type": "markdown",
   "metadata": {},
   "source": [
    "We'll want to extract the data from `mappings` and merge this with `psgc` table first to form all of the location information in one table."
   ]
  },
  {
   "cell_type": "code",
   "execution_count": 487,
   "metadata": {
    "ExecuteTime": {
     "end_time": "2020-05-23T09:11:00.967895Z",
     "start_time": "2020-05-23T09:11:00.943883Z"
    }
   },
   "outputs": [],
   "source": [
    "mapper = (mappings.join(psgc.select('precinct_code',\n",
    "                           'is_city',\n",
    "                           'income_class', \n",
    "                           'population',\n",
    "                           'land_area', \n",
    "                           'municipality_CM'),\n",
    "              on=mappings.precinct_code==psgc.precinct_code,\n",
    "              how='left')\n",
    "              .drop(psgc.precinct_code)\n",
    ")"
   ]
  },
  {
   "cell_type": "markdown",
   "metadata": {},
   "source": [
    "We now merge this to the `president` and `vicepres` tables, and denormalize the tables by:\n",
    "* grouping by `precinct_code`\n",
    "* pivoting the `candidate_name` column so we get columns of candidates\n",
    "* aggregating the `votes`, in this case, we use `max`, but it doesn't really matter because there is only one value for `votes` per candidate per precinct.\n",
    "* we also create a new table with `timestamp` as the values and merge this to the resulting table as well so we can retain the `timestamp` of each precinct.\n",
    "<br>\n",
    "We then join these tables with the `mapper` table we created previously."
   ]
  },
  {
   "cell_type": "code",
   "execution_count": 549,
   "metadata": {
    "ExecuteTime": {
     "end_time": "2020-05-23T09:34:40.143101Z",
     "start_time": "2020-05-23T09:34:39.399063Z"
    }
   },
   "outputs": [],
   "source": [
    "votes_president = (president.select('precinct_code',\n",
    "                  'candidate_name', \n",
    "                  president.votes.astype('int'))\n",
    "        .groupby('precinct_code')\n",
    "        .pivot('candidate_name')\n",
    "        .max('votes')\n",
    "        .join(mapper, \n",
    "              on=president.precinct_code == mapper.precinct_code, \n",
    "              how='left')\n",
    "        .drop(mapper.precinct_code)\n",
    "        .withColumn('voter_turnout', mapper['ballots_cast'] / mapper['registered_voters'])\n",
    "        .withColumn('income_class', bytes_cleaner(mapper.income_class))\n",
    "        .replace(to_replace=income_class_map, subset=['income_class'])\n",
    "        .join((president.select('precinct_code', \n",
    "                                'timestamp')\n",
    "                    .groupby('precinct_code')\n",
    "                    .agg(first('timestamp').alias('timestamp'))), on='precinct_code', how='left')\n",
    "        .drop(president.precinct_code)\n",
    ")"
   ]
  },
  {
   "cell_type": "code",
   "execution_count": 550,
   "metadata": {
    "ExecuteTime": {
     "end_time": "2020-05-23T09:34:40.852012Z",
     "start_time": "2020-05-23T09:34:40.145273Z"
    }
   },
   "outputs": [],
   "source": [
    "votes_vice = (vicepres.select('precinct_code',\n",
    "                  'candidate_name', \n",
    "                  vicepres.votes.astype('int'))\n",
    "        .groupby('precinct_code')\n",
    "        .pivot('candidate_name')\n",
    "        .max('votes')\n",
    "        .join(mapper, \n",
    "              on=vicepres.precinct_code == mapper.precinct_code, \n",
    "              how='left')\n",
    "        .drop(mapper.precinct_code)\n",
    "        .withColumn('voter_turnout', mapper['ballots_cast'] / mapper['registered_voters'])\n",
    "        .withColumn('income_class', bytes_cleaner(mapper.income_class))\n",
    "        .replace(to_replace=income_class_map, subset=['income_class'])\n",
    "        .join((vicepres.select('precinct_code', \n",
    "                               'timestamp')\n",
    "                    .groupby('precinct_code')\n",
    "                    .agg(first('timestamp').alias('timestamp'))), on='precinct_code', how='left')\n",
    "        .drop(vicepres.precinct_code)\n",
    ")"
   ]
  },
  {
   "cell_type": "markdown",
   "metadata": {},
   "source": [
    "# Get Geospatial Matches\n",
    "We also want to upload the shape file for GADM into Tableau. But to do this, we'll need to ensure that the fields match correctly for us to be able to join them together inside Tableau itself.\n",
    "<br>\n",
    "We can get the `NAME_1` and `NAME_2` fields from gadm and make sure that those match `province` and `municipality` respectively. We will be doing this in spark primarily, using UDFs."
   ]
  },
  {
   "cell_type": "code",
   "execution_count": 551,
   "metadata": {
    "ExecuteTime": {
     "end_time": "2020-05-23T09:36:20.537503Z",
     "start_time": "2020-05-23T09:36:20.534079Z"
    }
   },
   "outputs": [],
   "source": [
    "from fuzzywuzzy import fuzz\n",
    "from bs4 import BeautifulSoup\n",
    "import requests\n",
    "from time import sleep\n",
    "import geopandas as gpd"
   ]
  },
  {
   "cell_type": "code",
   "execution_count": 552,
   "metadata": {
    "ExecuteTime": {
     "end_time": "2020-05-23T09:36:23.844856Z",
     "start_time": "2020-05-23T09:36:20.858919Z"
    }
   },
   "outputs": [],
   "source": [
    "ph3 = gpd.GeoDataFrame.from_file('gadm36_PHL_3.shp')"
   ]
  },
  {
   "cell_type": "code",
   "execution_count": 553,
   "metadata": {
    "ExecuteTime": {
     "end_time": "2020-05-23T09:36:23.880604Z",
     "start_time": "2020-05-23T09:36:23.852076Z"
    }
   },
   "outputs": [],
   "source": [
    "gadm = pd.DataFrame()\n",
    "gadm['NAME_1'] = ph3['NAME_1']\n",
    "gadm['NAME_2'] = ph3['NAME_2']\n",
    "gadm = gadm.drop_duplicates()"
   ]
  },
  {
   "cell_type": "code",
   "execution_count": 554,
   "metadata": {
    "ExecuteTime": {
     "end_time": "2020-05-23T09:36:35.929318Z",
     "start_time": "2020-05-23T09:36:35.924155Z"
    }
   },
   "outputs": [],
   "source": [
    "# manual corrections for converting some items\n",
    "province_mapper = {\n",
    "    'DAVAO (DAVAO DEL NORTE)':'Davao del Norte',\n",
    "    'NATIONAL CAPITAL REGION - MANILA':'Metropolitan Manila',\n",
    "    'COTABATO (NORTH COT.)':'North Cotabato',\n",
    "    'NATIONAL CAPITAL REGION - SECOND DISTRICT':'Metropolitan Manila', \n",
    "    'NATIONAL CAPITAL REGION - THIRD DISTRICT':'Metropolitan Manila',\n",
    "    'NATIONAL CAPITAL REGION - FOURTH DISTRICT':'Metropolitan Manila', \n",
    "    'TAGUIG - PATEROS':'Metropolitan Manila',\n",
    "    'DAVAO OCCIDENTAL':'Davao del Sur',\n",
    "    'SAMAR (WESTERN SAMAR)':'Samar',\n",
    "    'EUROPE':'Overseas',\n",
    "    'MIDDLE EAST AND AFRICAS':'Overseas',\n",
    "    'NORTH AND LATIN AMERICA':'Overseas',\n",
    "    'ASIA':'Overseas'\n",
    "}"
   ]
  },
  {
   "cell_type": "markdown",
   "metadata": {},
   "source": [
    "We want to map the naming convention of GADM to new columns in `votes_president` and `votes_vice` spark dataframes. To facilitate this, we'll create a dictionary that can try to make the values if they are exact matches."
   ]
  },
  {
   "cell_type": "code",
   "execution_count": 494,
   "metadata": {
    "ExecuteTime": {
     "end_time": "2020-05-23T09:11:10.687594Z",
     "start_time": "2020-05-23T09:11:10.682939Z"
    }
   },
   "outputs": [],
   "source": [
    "name1_dict = dict(zip([i.lower() for i in gadm['NAME_1']], gadm['NAME_1']))"
   ]
  },
  {
   "cell_type": "code",
   "execution_count": 495,
   "metadata": {
    "ExecuteTime": {
     "end_time": "2020-05-23T09:11:12.442489Z",
     "start_time": "2020-05-23T09:11:12.333923Z"
    }
   },
   "outputs": [],
   "source": [
    "name2_dict = {}\n",
    "name2_dict['Overseas'] = {'Overseas':'Overseas'}\n",
    "grouped = gadm.groupby('NAME_1')\n",
    "for name in gadm['NAME_1'].unique():\n",
    "    name2_dict[name] = dict(zip(grouped.get_group(name)['NAME_2'].apply(lambda x: str(x).lower()).to_list(),\n",
    "                                grouped.get_group(name)['NAME_2']))"
   ]
  },
  {
   "cell_type": "markdown",
   "metadata": {},
   "source": [
    "The next functions are `udf`'s that first look if there is an exact match between our values and the gadm values. If there is no, it looks at our `province_mapper` dictionary if the value needs to be manually converted, and finally, if it is not there, we use fuzzy matching by implementing the `fuzzywuzzy` library to get the highest match ratio score in order to match the closest possible match that we can get."
   ]
  },
  {
   "cell_type": "code",
   "execution_count": 555,
   "metadata": {
    "ExecuteTime": {
     "end_time": "2020-05-23T09:39:05.296418Z",
     "start_time": "2020-05-23T09:39:05.291257Z"
    }
   },
   "outputs": [],
   "source": [
    "province_NAME = udf(lambda x: name1_dict[str(x).lower()] if str(x).lower() in name1_dict.keys() else \\\n",
    "                (sorted([(name1_dict[i], fuzz.ratio(str(x).lower(), i.lower())) \\\n",
    "                    for i in name1_dict.keys()], key=lambda k:-k[1])[0][0]\\\n",
    "                    if str(x) not in province_mapper.keys() else province_mapper[str(x)]))"
   ]
  },
  {
   "cell_type": "code",
   "execution_count": 556,
   "metadata": {
    "ExecuteTime": {
     "end_time": "2020-05-23T09:39:05.569556Z",
     "start_time": "2020-05-23T09:39:05.562657Z"
    }
   },
   "outputs": [],
   "source": [
    "municipality_NAME = udf(lambda NAME_1, x: name2_dict[NAME_1][str(x).lower()] \\\n",
    "                    if str(x).lower() in name2_dict[NAME_1].keys() else sorted(\\\n",
    "                    [(name2_dict[NAME_1][i], fuzz.ratio(str(x).lower(), i.lower())) for i in \\\n",
    "                    name2_dict[NAME_1].keys()], key=lambda k:-k[1])[0][0])"
   ]
  },
  {
   "cell_type": "code",
   "execution_count": 557,
   "metadata": {
    "ExecuteTime": {
     "end_time": "2020-05-23T09:39:08.172604Z",
     "start_time": "2020-05-23T09:39:08.105742Z"
    }
   },
   "outputs": [],
   "source": [
    "votes_vice = votes_vice.withColumn('NAME_1', province_NAME(votes_vice['province']))\n",
    "votes_president = votes_president.withColumn('NAME_1', \n",
    "                province_NAME(votes_president['province']))\n",
    "votes_vice = votes_vice.withColumn('NAME_2', \n",
    "                municipality_NAME(votes_vice.NAME_1, votes_vice.municipality))\n",
    "votes_president = votes_president.withColumn('NAME_2', \n",
    "                municipality_NAME(votes_president.NAME_1, votes_president.municipality))"
   ]
  },
  {
   "cell_type": "markdown",
   "metadata": {},
   "source": [
    "# Saving files\n",
    "We extract these files to `.csv` format for easier transfer to Tableau."
   ]
  },
  {
   "cell_type": "code",
   "execution_count": 558,
   "metadata": {
    "ExecuteTime": {
     "end_time": "2020-05-23T09:39:59.176474Z",
     "start_time": "2020-05-23T09:39:29.874788Z"
    }
   },
   "outputs": [],
   "source": [
    "(votes_president.repartition(1)\n",
    "   .write.format(\"com.databricks.spark.csv\")\n",
    "   .option(\"header\", \"true\")\n",
    "   .save(\"president\"))\n",
    "\n",
    "(votes_vice.repartition(1)\n",
    "   .write.format(\"com.databricks.spark.csv\")\n",
    "   .option(\"header\", \"true\")\n",
    "   .save(\"vice_president\"))"
   ]
  },
  {
   "cell_type": "code",
   "execution_count": 567,
   "metadata": {
    "ExecuteTime": {
     "end_time": "2020-05-23T09:57:37.169954Z",
     "start_time": "2020-05-23T09:57:37.164664Z"
    }
   },
   "outputs": [],
   "source": [
    "import glob, os\n",
    "os.rename(glob.glob('president/*.csv')[0], 'president.csv')\n",
    "os.rename(glob.glob('vice_president/*.csv')[0], 'vice_president.csv')"
   ]
  },
  {
   "cell_type": "markdown",
   "metadata": {},
   "source": [
    "# Get Congress Data"
   ]
  },
  {
   "cell_type": "code",
   "execution_count": 535,
   "metadata": {
    "ExecuteTime": {
     "end_time": "2020-05-23T09:20:54.905268Z",
     "start_time": "2020-05-23T09:20:54.902161Z"
    }
   },
   "outputs": [],
   "source": [
    "from IPython.display import clear_output\n",
    "pd.set_option('display.max_rows', 200)"
   ]
  },
  {
   "cell_type": "code",
   "execution_count": 543,
   "metadata": {
    "ExecuteTime": {
     "end_time": "2020-05-23T09:29:00.390850Z",
     "start_time": "2020-05-23T09:28:59.842311Z"
    }
   },
   "outputs": [],
   "source": [
    "request = requests.get('http://www.congress.gov.ph/members/', 'lxml')\n",
    "soup = BeautifulSoup(request.text) if request.status_code == 200 else False\n",
    "if soup:\n",
    "    congress = pd.read_html(str(soup.select('body > div > div > div.col-md-8 > table')[0]))[0]"
   ]
  },
  {
   "cell_type": "code",
   "execution_count": 544,
   "metadata": {
    "ExecuteTime": {
     "end_time": "2020-05-23T09:29:00.405707Z",
     "start_time": "2020-05-23T09:29:00.393206Z"
    }
   },
   "outputs": [],
   "source": [
    "congress.columns = ['name', 'location']\n",
    "congress = congress.loc[1:]\n",
    "congress['province'] = congress['location'].apply(lambda x: str(x).split(',')[0])\n",
    "congress = congress.groupby('province', as_index=False)['location'].count()\\\n",
    ".rename(columns={'location':'count'})\n",
    "congress = congress[~congress['province'].str.contains('Party')]"
   ]
  },
  {
   "cell_type": "code",
   "execution_count": 545,
   "metadata": {
    "ExecuteTime": {
     "end_time": "2020-05-23T09:29:00.660345Z",
     "start_time": "2020-05-23T09:29:00.654642Z"
    }
   },
   "outputs": [],
   "source": [
    "congress_name1 = {'Antipolo City': 'Rizal',\n",
    " 'Bacolod City': 'Negros Occidental',\n",
    " 'Baguio City': 'Benguet',\n",
    " 'Biñan City': 'Laguna',\n",
    " 'Cagayan de Oro City': 'Misamis Oriental',\n",
    " 'Calamba City': 'Laguna',\n",
    " 'Caloocan City': 'Metropolitan Manila',\n",
    " 'Cebu City': 'Cebu',\n",
    " 'Davao City': 'Davao del Sur',\n",
    " 'Davao Occidental': 'Davao del Sur',\n",
    " 'Davao de Oro': 'Compostela Valley',\n",
    " 'Iligan City': 'Lanao del Norte',\n",
    " 'Iloilo City': 'Iloilo',\n",
    " 'Lapu-Lapu City': 'Cebu',\n",
    " 'Las Piñas City': 'Metropolitan Manila',\n",
    " 'Makati City': 'Metropolitan Manila',\n",
    " 'Malabon City': 'Metropolitan Manila',\n",
    " 'Mandaluyong City': 'Metropolitan Manila',\n",
    " 'Manila': 'Metropolitan Manila',\n",
    " 'Marikina City': 'Metropolitan Manila',\n",
    " 'Muntinlupa City': 'Metropolitan Manila',\n",
    " 'Navotas City': 'Metropolitan Manila',\n",
    " 'Parañaque City': 'Metropolitan Manila',\n",
    " 'Pasay City': 'Metropolitan Manila',\n",
    " 'Pasig City': 'Metropolitan Manila',\n",
    " 'Quezon City': 'Metropolitan Manila',\n",
    " 'San Jose Del Monte City': 'Bulacan',\n",
    " 'San Juan City': 'Metropolitan Manila',\n",
    " 'Taguig City-Pateros': 'Metropolitan Manila',\n",
    " 'Valenzuela City': 'Metropolitan Manila',\n",
    " 'Zamboanga City': 'Zamboanga del Sur'}"
   ]
  },
  {
   "cell_type": "code",
   "execution_count": 546,
   "metadata": {
    "ExecuteTime": {
     "end_time": "2020-05-23T09:29:01.077113Z",
     "start_time": "2020-05-23T09:29:01.071609Z"
    },
    "scrolled": false
   },
   "outputs": [],
   "source": [
    "congress['NAME_1'] = congress['province'].apply(lambda x: congress_name1[str(x)] \\\n",
    "                if str(x) in congress_name1.keys() else name1_dict[str(x).lower()])"
   ]
  },
  {
   "cell_type": "code",
   "execution_count": 563,
   "metadata": {
    "ExecuteTime": {
     "end_time": "2020-05-23T09:53:16.157919Z",
     "start_time": "2020-05-23T09:53:16.148171Z"
    },
    "scrolled": false
   },
   "outputs": [],
   "source": [
    "congress = congress.drop('province', axis=1).groupby('NAME_1', as_index=False)['count'].sum()"
   ]
  },
  {
   "cell_type": "code",
   "execution_count": 564,
   "metadata": {
    "ExecuteTime": {
     "end_time": "2020-05-23T09:53:19.741570Z",
     "start_time": "2020-05-23T09:53:19.720711Z"
    },
    "scrolled": false
   },
   "outputs": [
    {
     "data": {
      "text/html": [
       "<div>\n",
       "<style scoped>\n",
       "    .dataframe tbody tr th:only-of-type {\n",
       "        vertical-align: middle;\n",
       "    }\n",
       "\n",
       "    .dataframe tbody tr th {\n",
       "        vertical-align: top;\n",
       "    }\n",
       "\n",
       "    .dataframe thead th {\n",
       "        text-align: right;\n",
       "    }\n",
       "</style>\n",
       "<table border=\"1\" class=\"dataframe\">\n",
       "  <thead>\n",
       "    <tr style=\"text-align: right;\">\n",
       "      <th></th>\n",
       "      <th>NAME_1</th>\n",
       "      <th>count</th>\n",
       "    </tr>\n",
       "  </thead>\n",
       "  <tbody>\n",
       "    <tr>\n",
       "      <th>0</th>\n",
       "      <td>Abra</td>\n",
       "      <td>1</td>\n",
       "    </tr>\n",
       "    <tr>\n",
       "      <th>1</th>\n",
       "      <td>Agusan del Norte</td>\n",
       "      <td>2</td>\n",
       "    </tr>\n",
       "    <tr>\n",
       "      <th>2</th>\n",
       "      <td>Agusan del Sur</td>\n",
       "      <td>2</td>\n",
       "    </tr>\n",
       "    <tr>\n",
       "      <th>3</th>\n",
       "      <td>Aklan</td>\n",
       "      <td>2</td>\n",
       "    </tr>\n",
       "    <tr>\n",
       "      <th>4</th>\n",
       "      <td>Albay</td>\n",
       "      <td>3</td>\n",
       "    </tr>\n",
       "    <tr>\n",
       "      <th>5</th>\n",
       "      <td>Antique</td>\n",
       "      <td>1</td>\n",
       "    </tr>\n",
       "    <tr>\n",
       "      <th>6</th>\n",
       "      <td>Apayao</td>\n",
       "      <td>1</td>\n",
       "    </tr>\n",
       "    <tr>\n",
       "      <th>7</th>\n",
       "      <td>Aurora</td>\n",
       "      <td>1</td>\n",
       "    </tr>\n",
       "    <tr>\n",
       "      <th>8</th>\n",
       "      <td>Basilan</td>\n",
       "      <td>1</td>\n",
       "    </tr>\n",
       "    <tr>\n",
       "      <th>9</th>\n",
       "      <td>Bataan</td>\n",
       "      <td>2</td>\n",
       "    </tr>\n",
       "    <tr>\n",
       "      <th>10</th>\n",
       "      <td>Batanes</td>\n",
       "      <td>1</td>\n",
       "    </tr>\n",
       "    <tr>\n",
       "      <th>11</th>\n",
       "      <td>Batangas</td>\n",
       "      <td>6</td>\n",
       "    </tr>\n",
       "    <tr>\n",
       "      <th>12</th>\n",
       "      <td>Benguet</td>\n",
       "      <td>2</td>\n",
       "    </tr>\n",
       "    <tr>\n",
       "      <th>13</th>\n",
       "      <td>Biliran</td>\n",
       "      <td>1</td>\n",
       "    </tr>\n",
       "    <tr>\n",
       "      <th>14</th>\n",
       "      <td>Bohol</td>\n",
       "      <td>3</td>\n",
       "    </tr>\n",
       "    <tr>\n",
       "      <th>15</th>\n",
       "      <td>Bukidnon</td>\n",
       "      <td>4</td>\n",
       "    </tr>\n",
       "    <tr>\n",
       "      <th>16</th>\n",
       "      <td>Bulacan</td>\n",
       "      <td>5</td>\n",
       "    </tr>\n",
       "    <tr>\n",
       "      <th>17</th>\n",
       "      <td>Cagayan</td>\n",
       "      <td>3</td>\n",
       "    </tr>\n",
       "    <tr>\n",
       "      <th>18</th>\n",
       "      <td>Camarines Norte</td>\n",
       "      <td>2</td>\n",
       "    </tr>\n",
       "    <tr>\n",
       "      <th>19</th>\n",
       "      <td>Camarines Sur</td>\n",
       "      <td>5</td>\n",
       "    </tr>\n",
       "    <tr>\n",
       "      <th>20</th>\n",
       "      <td>Camiguin</td>\n",
       "      <td>1</td>\n",
       "    </tr>\n",
       "    <tr>\n",
       "      <th>21</th>\n",
       "      <td>Capiz</td>\n",
       "      <td>2</td>\n",
       "    </tr>\n",
       "    <tr>\n",
       "      <th>22</th>\n",
       "      <td>Catanduanes</td>\n",
       "      <td>1</td>\n",
       "    </tr>\n",
       "    <tr>\n",
       "      <th>23</th>\n",
       "      <td>Cavite</td>\n",
       "      <td>8</td>\n",
       "    </tr>\n",
       "    <tr>\n",
       "      <th>24</th>\n",
       "      <td>Cebu</td>\n",
       "      <td>10</td>\n",
       "    </tr>\n",
       "    <tr>\n",
       "      <th>25</th>\n",
       "      <td>Compostela Valley</td>\n",
       "      <td>2</td>\n",
       "    </tr>\n",
       "    <tr>\n",
       "      <th>26</th>\n",
       "      <td>Davao Oriental</td>\n",
       "      <td>2</td>\n",
       "    </tr>\n",
       "    <tr>\n",
       "      <th>27</th>\n",
       "      <td>Davao del Norte</td>\n",
       "      <td>2</td>\n",
       "    </tr>\n",
       "    <tr>\n",
       "      <th>28</th>\n",
       "      <td>Davao del Sur</td>\n",
       "      <td>5</td>\n",
       "    </tr>\n",
       "    <tr>\n",
       "      <th>29</th>\n",
       "      <td>Dinagat Islands</td>\n",
       "      <td>1</td>\n",
       "    </tr>\n",
       "    <tr>\n",
       "      <th>30</th>\n",
       "      <td>Eastern Samar</td>\n",
       "      <td>1</td>\n",
       "    </tr>\n",
       "    <tr>\n",
       "      <th>31</th>\n",
       "      <td>Guimaras</td>\n",
       "      <td>1</td>\n",
       "    </tr>\n",
       "    <tr>\n",
       "      <th>32</th>\n",
       "      <td>Ifugao</td>\n",
       "      <td>1</td>\n",
       "    </tr>\n",
       "    <tr>\n",
       "      <th>33</th>\n",
       "      <td>Ilocos Norte</td>\n",
       "      <td>2</td>\n",
       "    </tr>\n",
       "    <tr>\n",
       "      <th>34</th>\n",
       "      <td>Ilocos Sur</td>\n",
       "      <td>2</td>\n",
       "    </tr>\n",
       "    <tr>\n",
       "      <th>35</th>\n",
       "      <td>Iloilo</td>\n",
       "      <td>6</td>\n",
       "    </tr>\n",
       "    <tr>\n",
       "      <th>36</th>\n",
       "      <td>Isabela</td>\n",
       "      <td>6</td>\n",
       "    </tr>\n",
       "    <tr>\n",
       "      <th>37</th>\n",
       "      <td>Kalinga</td>\n",
       "      <td>1</td>\n",
       "    </tr>\n",
       "    <tr>\n",
       "      <th>38</th>\n",
       "      <td>La Union</td>\n",
       "      <td>2</td>\n",
       "    </tr>\n",
       "    <tr>\n",
       "      <th>39</th>\n",
       "      <td>Laguna</td>\n",
       "      <td>6</td>\n",
       "    </tr>\n",
       "    <tr>\n",
       "      <th>40</th>\n",
       "      <td>Lanao del Norte</td>\n",
       "      <td>3</td>\n",
       "    </tr>\n",
       "    <tr>\n",
       "      <th>41</th>\n",
       "      <td>Lanao del Sur</td>\n",
       "      <td>2</td>\n",
       "    </tr>\n",
       "    <tr>\n",
       "      <th>42</th>\n",
       "      <td>Leyte</td>\n",
       "      <td>5</td>\n",
       "    </tr>\n",
       "    <tr>\n",
       "      <th>43</th>\n",
       "      <td>Maguindanao</td>\n",
       "      <td>2</td>\n",
       "    </tr>\n",
       "    <tr>\n",
       "      <th>44</th>\n",
       "      <td>Marinduque</td>\n",
       "      <td>1</td>\n",
       "    </tr>\n",
       "    <tr>\n",
       "      <th>45</th>\n",
       "      <td>Masbate</td>\n",
       "      <td>3</td>\n",
       "    </tr>\n",
       "    <tr>\n",
       "      <th>46</th>\n",
       "      <td>Metropolitan Manila</td>\n",
       "      <td>32</td>\n",
       "    </tr>\n",
       "    <tr>\n",
       "      <th>47</th>\n",
       "      <td>Misamis Occidental</td>\n",
       "      <td>2</td>\n",
       "    </tr>\n",
       "    <tr>\n",
       "      <th>48</th>\n",
       "      <td>Misamis Oriental</td>\n",
       "      <td>4</td>\n",
       "    </tr>\n",
       "    <tr>\n",
       "      <th>49</th>\n",
       "      <td>Mountain Province</td>\n",
       "      <td>1</td>\n",
       "    </tr>\n",
       "    <tr>\n",
       "      <th>50</th>\n",
       "      <td>Negros Occidental</td>\n",
       "      <td>7</td>\n",
       "    </tr>\n",
       "    <tr>\n",
       "      <th>51</th>\n",
       "      <td>Negros Oriental</td>\n",
       "      <td>3</td>\n",
       "    </tr>\n",
       "    <tr>\n",
       "      <th>52</th>\n",
       "      <td>North Cotabato</td>\n",
       "      <td>3</td>\n",
       "    </tr>\n",
       "    <tr>\n",
       "      <th>53</th>\n",
       "      <td>Northern Samar</td>\n",
       "      <td>2</td>\n",
       "    </tr>\n",
       "    <tr>\n",
       "      <th>54</th>\n",
       "      <td>Nueva Ecija</td>\n",
       "      <td>4</td>\n",
       "    </tr>\n",
       "    <tr>\n",
       "      <th>55</th>\n",
       "      <td>Nueva Vizcaya</td>\n",
       "      <td>1</td>\n",
       "    </tr>\n",
       "    <tr>\n",
       "      <th>56</th>\n",
       "      <td>Occidental Mindoro</td>\n",
       "      <td>1</td>\n",
       "    </tr>\n",
       "    <tr>\n",
       "      <th>57</th>\n",
       "      <td>Oriental Mindoro</td>\n",
       "      <td>2</td>\n",
       "    </tr>\n",
       "    <tr>\n",
       "      <th>58</th>\n",
       "      <td>Palawan</td>\n",
       "      <td>3</td>\n",
       "    </tr>\n",
       "    <tr>\n",
       "      <th>59</th>\n",
       "      <td>Pampanga</td>\n",
       "      <td>4</td>\n",
       "    </tr>\n",
       "    <tr>\n",
       "      <th>60</th>\n",
       "      <td>Pangasinan</td>\n",
       "      <td>6</td>\n",
       "    </tr>\n",
       "    <tr>\n",
       "      <th>61</th>\n",
       "      <td>Quezon</td>\n",
       "      <td>4</td>\n",
       "    </tr>\n",
       "    <tr>\n",
       "      <th>62</th>\n",
       "      <td>Quirino</td>\n",
       "      <td>1</td>\n",
       "    </tr>\n",
       "    <tr>\n",
       "      <th>63</th>\n",
       "      <td>Rizal</td>\n",
       "      <td>4</td>\n",
       "    </tr>\n",
       "    <tr>\n",
       "      <th>64</th>\n",
       "      <td>Romblon</td>\n",
       "      <td>1</td>\n",
       "    </tr>\n",
       "    <tr>\n",
       "      <th>65</th>\n",
       "      <td>Samar</td>\n",
       "      <td>2</td>\n",
       "    </tr>\n",
       "    <tr>\n",
       "      <th>66</th>\n",
       "      <td>Sarangani</td>\n",
       "      <td>1</td>\n",
       "    </tr>\n",
       "    <tr>\n",
       "      <th>67</th>\n",
       "      <td>Siquijor</td>\n",
       "      <td>1</td>\n",
       "    </tr>\n",
       "    <tr>\n",
       "      <th>68</th>\n",
       "      <td>Sorsogon</td>\n",
       "      <td>2</td>\n",
       "    </tr>\n",
       "    <tr>\n",
       "      <th>69</th>\n",
       "      <td>South Cotabato</td>\n",
       "      <td>2</td>\n",
       "    </tr>\n",
       "    <tr>\n",
       "      <th>70</th>\n",
       "      <td>Southern Leyte</td>\n",
       "      <td>1</td>\n",
       "    </tr>\n",
       "    <tr>\n",
       "      <th>71</th>\n",
       "      <td>Sultan Kudarat</td>\n",
       "      <td>2</td>\n",
       "    </tr>\n",
       "    <tr>\n",
       "      <th>72</th>\n",
       "      <td>Sulu</td>\n",
       "      <td>2</td>\n",
       "    </tr>\n",
       "    <tr>\n",
       "      <th>73</th>\n",
       "      <td>Surigao del Norte</td>\n",
       "      <td>2</td>\n",
       "    </tr>\n",
       "    <tr>\n",
       "      <th>74</th>\n",
       "      <td>Surigao del Sur</td>\n",
       "      <td>2</td>\n",
       "    </tr>\n",
       "    <tr>\n",
       "      <th>75</th>\n",
       "      <td>Tarlac</td>\n",
       "      <td>3</td>\n",
       "    </tr>\n",
       "    <tr>\n",
       "      <th>76</th>\n",
       "      <td>Tawi-Tawi</td>\n",
       "      <td>1</td>\n",
       "    </tr>\n",
       "    <tr>\n",
       "      <th>77</th>\n",
       "      <td>Zambales</td>\n",
       "      <td>2</td>\n",
       "    </tr>\n",
       "    <tr>\n",
       "      <th>78</th>\n",
       "      <td>Zamboanga Sibugay</td>\n",
       "      <td>2</td>\n",
       "    </tr>\n",
       "    <tr>\n",
       "      <th>79</th>\n",
       "      <td>Zamboanga del Norte</td>\n",
       "      <td>3</td>\n",
       "    </tr>\n",
       "    <tr>\n",
       "      <th>80</th>\n",
       "      <td>Zamboanga del Sur</td>\n",
       "      <td>4</td>\n",
       "    </tr>\n",
       "  </tbody>\n",
       "</table>\n",
       "</div>"
      ],
      "text/plain": [
       "                 NAME_1  count\n",
       "0                  Abra      1\n",
       "1      Agusan del Norte      2\n",
       "2        Agusan del Sur      2\n",
       "3                 Aklan      2\n",
       "4                 Albay      3\n",
       "5               Antique      1\n",
       "6                Apayao      1\n",
       "7                Aurora      1\n",
       "8               Basilan      1\n",
       "9                Bataan      2\n",
       "10              Batanes      1\n",
       "11             Batangas      6\n",
       "12              Benguet      2\n",
       "13              Biliran      1\n",
       "14                Bohol      3\n",
       "15             Bukidnon      4\n",
       "16              Bulacan      5\n",
       "17              Cagayan      3\n",
       "18      Camarines Norte      2\n",
       "19        Camarines Sur      5\n",
       "20             Camiguin      1\n",
       "21                Capiz      2\n",
       "22          Catanduanes      1\n",
       "23               Cavite      8\n",
       "24                 Cebu     10\n",
       "25    Compostela Valley      2\n",
       "26       Davao Oriental      2\n",
       "27      Davao del Norte      2\n",
       "28        Davao del Sur      5\n",
       "29      Dinagat Islands      1\n",
       "30        Eastern Samar      1\n",
       "31             Guimaras      1\n",
       "32               Ifugao      1\n",
       "33         Ilocos Norte      2\n",
       "34           Ilocos Sur      2\n",
       "35               Iloilo      6\n",
       "36              Isabela      6\n",
       "37              Kalinga      1\n",
       "38             La Union      2\n",
       "39               Laguna      6\n",
       "40      Lanao del Norte      3\n",
       "41        Lanao del Sur      2\n",
       "42                Leyte      5\n",
       "43          Maguindanao      2\n",
       "44           Marinduque      1\n",
       "45              Masbate      3\n",
       "46  Metropolitan Manila     32\n",
       "47   Misamis Occidental      2\n",
       "48     Misamis Oriental      4\n",
       "49    Mountain Province      1\n",
       "50    Negros Occidental      7\n",
       "51      Negros Oriental      3\n",
       "52       North Cotabato      3\n",
       "53       Northern Samar      2\n",
       "54          Nueva Ecija      4\n",
       "55        Nueva Vizcaya      1\n",
       "56   Occidental Mindoro      1\n",
       "57     Oriental Mindoro      2\n",
       "58              Palawan      3\n",
       "59             Pampanga      4\n",
       "60           Pangasinan      6\n",
       "61               Quezon      4\n",
       "62              Quirino      1\n",
       "63                Rizal      4\n",
       "64              Romblon      1\n",
       "65                Samar      2\n",
       "66            Sarangani      1\n",
       "67             Siquijor      1\n",
       "68             Sorsogon      2\n",
       "69       South Cotabato      2\n",
       "70       Southern Leyte      1\n",
       "71       Sultan Kudarat      2\n",
       "72                 Sulu      2\n",
       "73    Surigao del Norte      2\n",
       "74      Surigao del Sur      2\n",
       "75               Tarlac      3\n",
       "76            Tawi-Tawi      1\n",
       "77             Zambales      2\n",
       "78    Zamboanga Sibugay      2\n",
       "79  Zamboanga del Norte      3\n",
       "80    Zamboanga del Sur      4"
      ]
     },
     "execution_count": 564,
     "metadata": {},
     "output_type": "execute_result"
    }
   ],
   "source": [
    "congress"
   ]
  },
  {
   "cell_type": "code",
   "execution_count": null,
   "metadata": {},
   "outputs": [],
   "source": []
  }
 ],
 "metadata": {
  "kernelspec": {
   "display_name": "Python 3",
   "language": "python",
   "name": "python3"
  },
  "language_info": {
   "codemirror_mode": {
    "name": "ipython",
    "version": 3
   },
   "file_extension": ".py",
   "mimetype": "text/x-python",
   "name": "python",
   "nbconvert_exporter": "python",
   "pygments_lexer": "ipython3",
   "version": "3.7.6"
  },
  "toc": {
   "base_numbering": 1,
   "nav_menu": {},
   "number_sections": true,
   "sideBar": true,
   "skip_h1_title": false,
   "title_cell": "Table of Contents",
   "title_sidebar": "Contents",
   "toc_cell": false,
   "toc_position": {},
   "toc_section_display": true,
   "toc_window_display": false
  }
 },
 "nbformat": 4,
 "nbformat_minor": 2
}
