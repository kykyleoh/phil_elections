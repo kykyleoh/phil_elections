{
 "cells": [
  {
   "cell_type": "markdown",
   "metadata": {},
   "source": [
    "Datasets:\n",
    "*\tref_table_precinct_locations_PSGC.csv – lookup table for precincts\n",
    "*\tresults_president.csv – precinct-level election results for the 2016 presidential race\n",
    "*\tresults_vice-president.csv – precinct-level election results for the 2016 vice presidential race\n",
    "\n",
    "Tasks:\n",
    "1.\tCreate a denormalized table replacing precinct_code in the results_*.csv files with the columns: region, province, municipality, and barangay. \n",
    "\n",
    "2.\tCreate an interesting data visualization using this dataset.\n",
    "\n",
    "Tools:\n",
    "-\tCode should be written in a Jupyter Notebook\n",
    "-\tFor data transformation you can use Pandas\n",
    "-\tFor visualization use matplotlib or seaborn\n",
    "-\tPut your code in a Github repository\n",
    "\n",
    "Extra:\n",
    "-\tBonus points if you use PySpark for data transformation\n",
    "-\tBonus points if you use Tableau for visualization\n",
    " \n",
    "Good luck and enjoy. 😊\n"
   ]
  },
  {
   "cell_type": "markdown",
   "metadata": {},
   "source": [
    "# Denormalize Data Using PySpark"
   ]
  },
  {
   "cell_type": "code",
   "execution_count": 382,
   "metadata": {
    "ExecuteTime": {
     "end_time": "2020-05-22T18:45:50.230611Z",
     "start_time": "2020-05-22T18:45:50.217816Z"
    }
   },
   "outputs": [],
   "source": [
    "from pyspark.sql import SparkSession\n",
    "from pyspark import SparkContext\n",
    "from pyspark.sql.functions import udf, first\n",
    "import pandas as pd\n",
    "import matplotlib.pyplot as plt\n",
    "%matplotlib inline\n",
    "import seaborn as sns"
   ]
  },
  {
   "cell_type": "code",
   "execution_count": 2,
   "metadata": {
    "ExecuteTime": {
     "end_time": "2020-05-22T09:12:39.157664Z",
     "start_time": "2020-05-22T09:12:36.622332Z"
    }
   },
   "outputs": [],
   "source": [
    "sc = SparkContext()\n",
    "spark = SparkSession(sc)"
   ]
  },
  {
   "cell_type": "code",
   "execution_count": 329,
   "metadata": {
    "ExecuteTime": {
     "end_time": "2020-05-22T18:19:39.248367Z",
     "start_time": "2020-05-22T18:19:38.153339Z"
    }
   },
   "outputs": [],
   "source": [
    "president = spark.read.csv('results_president.csv', header=True)\n",
    "vicepres = spark.read.csv('results_vice-president.csv', header=True)\n",
    "mappings = spark.read.csv('ref_table_precinct_locations.csv', header=True)\n",
    "psgc = spark.read.csv('ref_table_precinct_locations_PSGC.csv', header=True)"
   ]
  },
  {
   "cell_type": "code",
   "execution_count": 378,
   "metadata": {
    "ExecuteTime": {
     "end_time": "2020-05-22T18:41:28.704337Z",
     "start_time": "2020-05-22T18:41:28.628117Z"
    }
   },
   "outputs": [
    {
     "data": {
      "text/plain": [
       "Row(precinct_code='69140005', contest_code='199009', candidate_name='DUTERTE, RODY (PDPLBN)', party_code='114', votes='124', col5='3', ballots_cast='639', col7='13', col8='8', timestamp='05/09/2016 17:05:50', pct_votes='0.194053208138')"
      ]
     },
     "execution_count": 378,
     "metadata": {},
     "output_type": "execute_result"
    }
   ],
   "source": [
    "president.first()"
   ]
  },
  {
   "cell_type": "code",
   "execution_count": 330,
   "metadata": {
    "ExecuteTime": {
     "end_time": "2020-05-22T18:19:39.253952Z",
     "start_time": "2020-05-22T18:19:39.250688Z"
    }
   },
   "outputs": [],
   "source": [
    "income_class_map = {\n",
    "    '1st':'1st Class',\n",
    "    '2nd':'2nd Class',\n",
    "    '3rd':'3rd Class', \n",
    "    '4th':'4th Class',\n",
    "    '5th':'5th Class',\n",
    "    '6th':'6th Class',\n",
    "    '-':'Unknown',\n",
    "    'None':'None'\n",
    "}"
   ]
  },
  {
   "cell_type": "code",
   "execution_count": 331,
   "metadata": {
    "ExecuteTime": {
     "end_time": "2020-05-22T18:19:39.258726Z",
     "start_time": "2020-05-22T18:19:39.255690Z"
    }
   },
   "outputs": [],
   "source": [
    "bytes_cleaner = udf(lambda x: str(x).replace('\\xa0', u''))"
   ]
  },
  {
   "cell_type": "code",
   "execution_count": 332,
   "metadata": {
    "ExecuteTime": {
     "end_time": "2020-05-22T18:19:39.281034Z",
     "start_time": "2020-05-22T18:19:39.260418Z"
    }
   },
   "outputs": [],
   "source": [
    "mapper = (mappings.join(psgc.select('precinct_code',\n",
    "                           'is_city',\n",
    "                           'income_class', \n",
    "                           'population',\n",
    "                           'land_area', \n",
    "                           'municipality_CM'),\n",
    "              on=mappings.precinct_code==psgc.precinct_code,\n",
    "              how='left')\n",
    "              .drop(psgc.precinct_code)\n",
    ")"
   ]
  },
  {
   "cell_type": "code",
   "execution_count": null,
   "metadata": {},
   "outputs": [],
   "source": [
    "dfTopByJoin\n",
    "  .groupBy($\"hour\")\n",
    "  .agg(\n",
    "    first(\"category\").alias(\"category\"),"
   ]
  },
  {
   "cell_type": "code",
   "execution_count": 384,
   "metadata": {
    "ExecuteTime": {
     "end_time": "2020-05-22T18:46:02.807235Z",
     "start_time": "2020-05-22T18:46:01.708424Z"
    }
   },
   "outputs": [
    {
     "name": "stdout",
     "output_type": "stream",
     "text": [
      "+-------------+-----------------------+\n",
      "|precinct_code|first(timestamp, false)|\n",
      "+-------------+-----------------------+\n",
      "|     10050007|    05/09/2016 18:28:46|\n",
      "|     10050017|    05/09/2016 18:35:36|\n",
      "|     10050070|    05/09/2016 19:43:57|\n",
      "|     10080008|    05/09/2016 19:08:46|\n",
      "|     10110019|    05/09/2016 18:38:53|\n",
      "|     10120012|    05/09/2016 18:37:23|\n",
      "|     10140018|    05/09/2016 18:34:55|\n",
      "|     10170033|    05/09/2016 18:38:17|\n",
      "|     10200026|    05/09/2016 17:32:22|\n",
      "|     10210080|    05/09/2016 17:42:44|\n",
      "|     10230061|    05/09/2016 19:50:44|\n",
      "|     10280006|    05/09/2016 20:10:34|\n",
      "|     10310148|    05/09/2016 20:05:54|\n",
      "|     11120004|    05/09/2016 19:25:01|\n",
      "|      1180010|    05/09/2016 19:37:38|\n",
      "|     12110007|    05/09/2016 17:34:03|\n",
      "|     12120029|    05/09/2016 22:14:17|\n",
      "|     12130007|    05/09/2016 21:27:29|\n",
      "|     12240008|    05/09/2016 22:14:09|\n",
      "|     12380022|    05/09/2016 18:47:40|\n",
      "+-------------+-----------------------+\n",
      "only showing top 20 rows\n",
      "\n"
     ]
    }
   ],
   "source": []
  },
  {
   "cell_type": "code",
   "execution_count": 391,
   "metadata": {
    "ExecuteTime": {
     "end_time": "2020-05-22T18:48:26.307028Z",
     "start_time": "2020-05-22T18:48:25.592168Z"
    }
   },
   "outputs": [],
   "source": [
    "votes_president = (president.select('precinct_code',\n",
    "                  'candidate_name', \n",
    "                  president.votes.astype('int'))\n",
    "        .groupby('precinct_code')\n",
    "        .pivot('candidate_name')\n",
    "        .max('votes')\n",
    "        .join(mapper, \n",
    "              on=president.precinct_code == mapper.precinct_code, \n",
    "              how='left')\n",
    "        .drop(mapper.precinct_code)\n",
    "        .withColumn('voter_turnout', mapper['ballots_cast'] / mapper['registered_voters'])\n",
    "        .withColumn('income_class', bytes_cleaner(mapper.income_class))\n",
    "        .replace(to_replace=income_class_map, subset=['income_class'])\n",
    "        .join((president.select('precinct_code', \n",
    "                                'timestamp')\n",
    "                    .groupby('precinct_code')\n",
    "                    .agg(first('timestamp').alias('timestamp'))), on='precinct_code', how='left')\n",
    "        .drop(president.precinct_code)\n",
    ")"
   ]
  },
  {
   "cell_type": "code",
   "execution_count": 334,
   "metadata": {
    "ExecuteTime": {
     "end_time": "2020-05-22T18:19:40.784559Z",
     "start_time": "2020-05-22T18:19:40.025682Z"
    }
   },
   "outputs": [],
   "source": [
    "votes_vice = (vicepres.select('precinct_code',\n",
    "                  'candidate_name', \n",
    "                  vicepres.votes.astype('int'))\n",
    "        .groupby('precinct_code')\n",
    "        .pivot('candidate_name')\n",
    "        .max('votes')\n",
    "        .join(mapper, \n",
    "              on=vicepres.precinct_code == mapper.precinct_code, \n",
    "              how='left')\n",
    "        .drop(mapper.precinct_code)\n",
    "        .withColumn('voter_turnout', mapper['ballots_cast'] / mapper['registered_voters'])\n",
    "        .withColumn('income_class', bytes_cleaner(mapper.income_class))\n",
    "        .replace(to_replace=income_class_map, subset=['income_class'])\n",
    "        .join((vicepres.select('precinct_code', \n",
    "                               'timestamp')\n",
    "                    .groupby('precinct_code')\n",
    "                    .agg(first('timestamp').alias('timestamp'))), on='precinct_code', how='left')\n",
    "        .drop(vicepres.precinct_code)\n",
    ")"
   ]
  },
  {
   "cell_type": "code",
   "execution_count": 335,
   "metadata": {
    "ExecuteTime": {
     "end_time": "2020-05-22T18:19:40.790196Z",
     "start_time": "2020-05-22T18:19:40.787146Z"
    }
   },
   "outputs": [],
   "source": [
    "# (votes_president.repartition(1)\n",
    "#    .write.format(\"com.databricks.spark.csv\")\n",
    "#    .option(\"header\", \"true\")\n",
    "#    .save(\"president\"))\n",
    "\n",
    "# (votes_vice.repartition(1)\n",
    "#    .write.format(\"com.databricks.spark.csv\")\n",
    "#    .option(\"header\", \"true\")\n",
    "#    .save(\"vice_president\"))"
   ]
  },
  {
   "cell_type": "code",
   "execution_count": 324,
   "metadata": {
    "ExecuteTime": {
     "end_time": "2020-05-22T18:08:38.889022Z",
     "start_time": "2020-05-22T18:08:38.817710Z"
    }
   },
   "outputs": [
    {
     "data": {
      "text/plain": [
       "Row(precinct_code='10030074', contest_code='299009', candidate_name='ROBREDO, LENI DAANG MATUWID (LP)', party_code='85', votes='185', col5='5', ballots_cast='535', col7='25', col8='9', timestamp='05/09/2016 17:07:51', pct_votes='0.345794392523')"
      ]
     },
     "execution_count": 324,
     "metadata": {},
     "output_type": "execute_result"
    }
   ],
   "source": [
    "vicepres.first()"
   ]
  },
  {
   "cell_type": "markdown",
   "metadata": {},
   "source": [
    "# Get Geospatial Matches"
   ]
  },
  {
   "cell_type": "code",
   "execution_count": 314,
   "metadata": {
    "ExecuteTime": {
     "end_time": "2020-05-22T18:01:20.669715Z",
     "start_time": "2020-05-22T18:01:20.360027Z"
    }
   },
   "outputs": [],
   "source": [
    "from fuzzywuzzy import fuzz\n",
    "from bs4 import BeautifulSoup\n",
    "import requests\n",
    "from time import sleep\n",
    "import geopandas as gpd"
   ]
  },
  {
   "cell_type": "code",
   "execution_count": 318,
   "metadata": {
    "ExecuteTime": {
     "end_time": "2020-05-22T18:03:31.420363Z",
     "start_time": "2020-05-22T18:03:27.979846Z"
    }
   },
   "outputs": [],
   "source": [
    "ph3 = gpd.GeoDataFrame.from_file('gadm36_PHL_3.shp')"
   ]
  },
  {
   "cell_type": "code",
   "execution_count": 345,
   "metadata": {
    "ExecuteTime": {
     "end_time": "2020-05-22T18:27:18.609861Z",
     "start_time": "2020-05-22T18:27:18.591064Z"
    }
   },
   "outputs": [
    {
     "data": {
      "text/plain": [
       "'Batangas'"
      ]
     },
     "execution_count": 345,
     "metadata": {},
     "output_type": "execute_result"
    }
   ],
   "source": []
  },
  {
   "cell_type": "code",
   "execution_count": 336,
   "metadata": {
    "ExecuteTime": {
     "end_time": "2020-05-22T18:21:08.472879Z",
     "start_time": "2020-05-22T18:21:08.412961Z"
    }
   },
   "outputs": [],
   "source": [
    "gadm = pd.DataFrame()\n",
    "gadm['NAME_1'] = ph3['NAME_1']\n",
    "gadm['NAME_2'] = ph3['NAME_2']"
   ]
  },
  {
   "cell_type": "code",
   "execution_count": 365,
   "metadata": {
    "ExecuteTime": {
     "end_time": "2020-05-22T18:35:21.040133Z",
     "start_time": "2020-05-22T18:35:21.030891Z"
    }
   },
   "outputs": [],
   "source": [
    "province_mapper = {\n",
    "    'DAVAO (DAVAO DEL NORTE)':'Davao del Norte',\n",
    "    'NATIONAL CAPITAL REGION - MANILA':'Metropolitan Manila',\n",
    "    'COTABATO (NORTH COT.)':'North Cotabato',\n",
    "    'NATIONAL CAPITAL REGION - SECOND DISTRICT':'Metropolitan Manila', \n",
    "    'NATIONAL CAPITAL REGION - THIRD DISTRICT':'Metropolitan Manila',\n",
    "    'NATIONAL CAPITAL REGION - FOURTH DISTRICT':'Metropolitan Manila', \n",
    "    'TAGUIG - PATEROS':'Metropolitan Manila',\n",
    "    'DAVAO OCCIDENTAL':'Davao del Sur',\n",
    "    'SAMAR (WESTERN SAMAR)':'Samar',\n",
    "    'EUROPE':'Overseas',\n",
    "    'MIDDLE EAST AND AFRICAS':'Overseas',\n",
    "    'NORTH AND LATIN AMERICA':'Overseas',\n",
    "    'ASIA':'Overseas'\n",
    "}"
   ]
  },
  {
   "cell_type": "code",
   "execution_count": 366,
   "metadata": {
    "ExecuteTime": {
     "end_time": "2020-05-22T18:35:21.174228Z",
     "start_time": "2020-05-22T18:35:21.169130Z"
    }
   },
   "outputs": [],
   "source": [
    "province_NAME = udf(lambda x: sorted([(i, fuzz.ratio(str(x).lower(), i.lower())) \\\n",
    "                    for i in gadm['NAME_1'].unique()], key=lambda x:-x[1])[0][0]\\\n",
    "                    if str(x) not in province_mapper.keys() else province_mapper[x])"
   ]
  },
  {
   "cell_type": "code",
   "execution_count": 367,
   "metadata": {
    "ExecuteTime": {
     "end_time": "2020-05-22T18:35:21.898600Z",
     "start_time": "2020-05-22T18:35:21.481402Z"
    }
   },
   "outputs": [],
   "source": [
    "votes_vice = votes_vice.withColumn('NAME_1', province_NAME(votes_vice['province']))\n",
    "votes_president = votes_president.withColumn('NAME_1', province_NAME(votes_president['province']))"
   ]
  },
  {
   "cell_type": "code",
   "execution_count": 375,
   "metadata": {
    "ExecuteTime": {
     "end_time": "2020-05-22T18:38:58.267440Z",
     "start_time": "2020-05-22T18:37:59.529252Z"
    }
   },
   "outputs": [],
   "source": [
    "really = votes_vice.toPandas()"
   ]
  },
  {
   "cell_type": "code",
   "execution_count": 376,
   "metadata": {
    "ExecuteTime": {
     "end_time": "2020-05-22T18:38:58.292776Z",
     "start_time": "2020-05-22T18:38:58.269707Z"
    }
   },
   "outputs": [
    {
     "data": {
      "text/html": [
       "<div>\n",
       "<style scoped>\n",
       "    .dataframe tbody tr th:only-of-type {\n",
       "        vertical-align: middle;\n",
       "    }\n",
       "\n",
       "    .dataframe tbody tr th {\n",
       "        vertical-align: top;\n",
       "    }\n",
       "\n",
       "    .dataframe thead th {\n",
       "        text-align: right;\n",
       "    }\n",
       "</style>\n",
       "<table border=\"1\" class=\"dataframe\">\n",
       "  <thead>\n",
       "    <tr style=\"text-align: right;\">\n",
       "      <th></th>\n",
       "      <th>NAME_1</th>\n",
       "      <th>NAME_2</th>\n",
       "    </tr>\n",
       "  </thead>\n",
       "  <tbody>\n",
       "    <tr>\n",
       "      <th>0</th>\n",
       "      <td>Abra</td>\n",
       "      <td>Bangued</td>\n",
       "    </tr>\n",
       "    <tr>\n",
       "      <th>31</th>\n",
       "      <td>Abra</td>\n",
       "      <td>Boliney</td>\n",
       "    </tr>\n",
       "    <tr>\n",
       "      <th>39</th>\n",
       "      <td>Abra</td>\n",
       "      <td>Bucay</td>\n",
       "    </tr>\n",
       "    <tr>\n",
       "      <th>60</th>\n",
       "      <td>Abra</td>\n",
       "      <td>Bucloc</td>\n",
       "    </tr>\n",
       "    <tr>\n",
       "      <th>64</th>\n",
       "      <td>Abra</td>\n",
       "      <td>Daguioman</td>\n",
       "    </tr>\n",
       "    <tr>\n",
       "      <th>...</th>\n",
       "      <td>...</td>\n",
       "      <td>...</td>\n",
       "    </tr>\n",
       "    <tr>\n",
       "      <th>41825</th>\n",
       "      <td>Zamboanga Sibugay</td>\n",
       "      <td>Roseller Lim</td>\n",
       "    </tr>\n",
       "    <tr>\n",
       "      <th>41851</th>\n",
       "      <td>Zamboanga Sibugay</td>\n",
       "      <td>Siay</td>\n",
       "    </tr>\n",
       "    <tr>\n",
       "      <th>41880</th>\n",
       "      <td>Zamboanga Sibugay</td>\n",
       "      <td>Talusan</td>\n",
       "    </tr>\n",
       "    <tr>\n",
       "      <th>41894</th>\n",
       "      <td>Zamboanga Sibugay</td>\n",
       "      <td>Titay</td>\n",
       "    </tr>\n",
       "    <tr>\n",
       "      <th>41923</th>\n",
       "      <td>Zamboanga Sibugay</td>\n",
       "      <td>Tungawan</td>\n",
       "    </tr>\n",
       "  </tbody>\n",
       "</table>\n",
       "<p>1647 rows × 2 columns</p>\n",
       "</div>"
      ],
      "text/plain": [
       "                  NAME_1        NAME_2\n",
       "0                   Abra       Bangued\n",
       "31                  Abra       Boliney\n",
       "39                  Abra         Bucay\n",
       "60                  Abra        Bucloc\n",
       "64                  Abra     Daguioman\n",
       "...                  ...           ...\n",
       "41825  Zamboanga Sibugay  Roseller Lim\n",
       "41851  Zamboanga Sibugay          Siay\n",
       "41880  Zamboanga Sibugay       Talusan\n",
       "41894  Zamboanga Sibugay         Titay\n",
       "41923  Zamboanga Sibugay      Tungawan\n",
       "\n",
       "[1647 rows x 2 columns]"
      ]
     },
     "execution_count": 376,
     "metadata": {},
     "output_type": "execute_result"
    }
   ],
   "source": [
    "gadm.drop_duplicates()"
   ]
  },
  {
   "cell_type": "code",
   "execution_count": 377,
   "metadata": {
    "ExecuteTime": {
     "end_time": "2020-05-22T18:38:58.311075Z",
     "start_time": "2020-05-22T18:38:58.294413Z"
    }
   },
   "outputs": [
    {
     "data": {
      "text/html": [
       "<div>\n",
       "<style scoped>\n",
       "    .dataframe tbody tr th:only-of-type {\n",
       "        vertical-align: middle;\n",
       "    }\n",
       "\n",
       "    .dataframe tbody tr th {\n",
       "        vertical-align: top;\n",
       "    }\n",
       "\n",
       "    .dataframe thead th {\n",
       "        text-align: right;\n",
       "    }\n",
       "</style>\n",
       "<table border=\"1\" class=\"dataframe\">\n",
       "  <thead>\n",
       "    <tr style=\"text-align: right;\">\n",
       "      <th></th>\n",
       "      <th>NAME_1</th>\n",
       "      <th>municipality</th>\n",
       "    </tr>\n",
       "  </thead>\n",
       "  <tbody>\n",
       "    <tr>\n",
       "      <th>0</th>\n",
       "      <td>Batangas</td>\n",
       "      <td>BATANGAS CITY</td>\n",
       "    </tr>\n",
       "    <tr>\n",
       "      <th>1</th>\n",
       "      <td>Batangas</td>\n",
       "      <td>BATANGAS CITY</td>\n",
       "    </tr>\n",
       "    <tr>\n",
       "      <th>2</th>\n",
       "      <td>Batangas</td>\n",
       "      <td>BATANGAS CITY</td>\n",
       "    </tr>\n",
       "    <tr>\n",
       "      <th>3</th>\n",
       "      <td>Batangas</td>\n",
       "      <td>CALATAGAN</td>\n",
       "    </tr>\n",
       "    <tr>\n",
       "      <th>4</th>\n",
       "      <td>Batangas</td>\n",
       "      <td>LAUREL</td>\n",
       "    </tr>\n",
       "    <tr>\n",
       "      <th>...</th>\n",
       "      <td>...</td>\n",
       "      <td>...</td>\n",
       "    </tr>\n",
       "    <tr>\n",
       "      <th>90355</th>\n",
       "      <td>Compostela Valley</td>\n",
       "      <td>MAWAB</td>\n",
       "    </tr>\n",
       "    <tr>\n",
       "      <th>90356</th>\n",
       "      <td>Zamboanga Sibugay</td>\n",
       "      <td>BUUG</td>\n",
       "    </tr>\n",
       "    <tr>\n",
       "      <th>90357</th>\n",
       "      <td>Zamboanga Sibugay</td>\n",
       "      <td>KABASALAN</td>\n",
       "    </tr>\n",
       "    <tr>\n",
       "      <th>90358</th>\n",
       "      <td>Davao del Sur</td>\n",
       "      <td>SANTA MARIA</td>\n",
       "    </tr>\n",
       "    <tr>\n",
       "      <th>90359</th>\n",
       "      <td>Overseas</td>\n",
       "      <td>UNITED KINGDOM OF GREAT BRITAIN</td>\n",
       "    </tr>\n",
       "  </tbody>\n",
       "</table>\n",
       "<p>90360 rows × 2 columns</p>\n",
       "</div>"
      ],
      "text/plain": [
       "                  NAME_1                     municipality\n",
       "0               Batangas                    BATANGAS CITY\n",
       "1               Batangas                    BATANGAS CITY\n",
       "2               Batangas                    BATANGAS CITY\n",
       "3               Batangas                        CALATAGAN\n",
       "4               Batangas                           LAUREL\n",
       "...                  ...                              ...\n",
       "90355  Compostela Valley                            MAWAB\n",
       "90356  Zamboanga Sibugay                             BUUG\n",
       "90357  Zamboanga Sibugay                        KABASALAN\n",
       "90358      Davao del Sur                      SANTA MARIA\n",
       "90359           Overseas  UNITED KINGDOM OF GREAT BRITAIN\n",
       "\n",
       "[90360 rows x 2 columns]"
      ]
     },
     "execution_count": 377,
     "metadata": {},
     "output_type": "execute_result"
    }
   ],
   "source": [
    "really[['NAME_1', 'municipality']]"
   ]
  },
  {
   "cell_type": "markdown",
   "metadata": {},
   "source": [
    "# Get Congress Data"
   ]
  },
  {
   "cell_type": "code",
   "execution_count": 311,
   "metadata": {
    "ExecuteTime": {
     "end_time": "2020-05-22T17:59:23.619017Z",
     "start_time": "2020-05-22T17:59:23.197775Z"
    }
   },
   "outputs": [],
   "source": [
    "request = requests.get('http://www.congress.gov.ph/members/', 'lxml')\n",
    "soup = BeautifulSoup(request.text) if request.status_code == 200 else False\n",
    "if soup:\n",
    "    congress = pd.read_html(str(soup.select('body > div > div > div.col-md-8 > table')[0]))[0]"
   ]
  },
  {
   "cell_type": "code",
   "execution_count": 312,
   "metadata": {
    "ExecuteTime": {
     "end_time": "2020-05-22T17:59:23.638229Z",
     "start_time": "2020-05-22T17:59:23.622504Z"
    }
   },
   "outputs": [],
   "source": [
    "congress.columns = ['name', 'location']\n",
    "congress = congress.loc[1:]\n",
    "congress['municipality'] = congress['location'].apply(lambda x: str(x).split(',')[0])\n",
    "congress = congress.groupby('municipality', as_index=False)['location'].count()\\\n",
    ".rename(columns={'location':'count'})\n",
    "congress = congress[~congress['municipality'].str.contains('Party')]"
   ]
  }
 ],
 "metadata": {
  "kernelspec": {
   "display_name": "Python 3",
   "language": "python",
   "name": "python3"
  },
  "language_info": {
   "codemirror_mode": {
    "name": "ipython",
    "version": 3
   },
   "file_extension": ".py",
   "mimetype": "text/x-python",
   "name": "python",
   "nbconvert_exporter": "python",
   "pygments_lexer": "ipython3",
   "version": "3.7.6"
  },
  "toc": {
   "base_numbering": 1,
   "nav_menu": {},
   "number_sections": true,
   "sideBar": true,
   "skip_h1_title": false,
   "title_cell": "Table of Contents",
   "title_sidebar": "Contents",
   "toc_cell": false,
   "toc_position": {},
   "toc_section_display": true,
   "toc_window_display": false
  }
 },
 "nbformat": 4,
 "nbformat_minor": 2
}
